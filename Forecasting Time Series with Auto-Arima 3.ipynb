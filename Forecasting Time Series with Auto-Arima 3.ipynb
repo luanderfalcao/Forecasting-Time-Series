{
 "cells": [
  {
   "cell_type": "code",
   "execution_count": 1,
   "metadata": {},
   "outputs": [],
   "source": [
    "import pandas as pd\n",
    "import glob\n",
    "import numpy as np\n",
    "import seaborn as sn\n",
    "import matplotlib.pyplot as plt\n",
    "from statsmodels.graphics.tsaplots import plot_pacf, plot_acf\n",
    "from statsmodels.tsa.statespace.sarimax import SARIMAX\n",
    "from statsmodels.tsa.stattools import pacf"
   ]
  },
  {
   "cell_type": "code",
   "execution_count": 3,
   "metadata": {},
   "outputs": [],
   "source": [
    "from pmdarima.arima import auto_arima"
   ]
  },
  {
   "cell_type": "code",
   "execution_count": 4,
   "metadata": {},
   "outputs": [],
   "source": [
    "from sklearn.metrics import mean_squared_error\n",
    "from sklearn.metrics import mean_absolute_error\n",
    "from sklearn.metrics import mean_absolute_percentage_error"
   ]
  },
  {
   "cell_type": "code",
   "execution_count": 9,
   "metadata": {},
   "outputs": [
    {
     "data": {
      "text/plain": [
       "(379870, 6)"
      ]
     },
     "execution_count": 9,
     "metadata": {},
     "output_type": "execute_result"
    }
   ],
   "source": [
    "data = pd.read_csv('consumo_mensal_energia.csv', sep=\",\", encoding='UTF-8', low_memory=False)\n",
    "data.shape"
   ]
  },
  {
   "cell_type": "code",
   "execution_count": 10,
   "metadata": {},
   "outputs": [
    {
     "data": {
      "text/html": [
       "<div>\n",
       "<style scoped>\n",
       "    .dataframe tbody tr th:only-of-type {\n",
       "        vertical-align: middle;\n",
       "    }\n",
       "\n",
       "    .dataframe tbody tr th {\n",
       "        vertical-align: top;\n",
       "    }\n",
       "\n",
       "    .dataframe thead th {\n",
       "        text-align: right;\n",
       "    }\n",
       "</style>\n",
       "<table border=\"1\" class=\"dataframe\">\n",
       "  <thead>\n",
       "    <tr style=\"text-align: right;\">\n",
       "      <th></th>\n",
       "      <th>id</th>\n",
       "      <th>referencia</th>\n",
       "      <th>cliente_id</th>\n",
       "      <th>tipo_cliente</th>\n",
       "      <th>consumo_kwh</th>\n",
       "      <th>Estado_Sigla</th>\n",
       "    </tr>\n",
       "  </thead>\n",
       "  <tbody>\n",
       "    <tr>\n",
       "      <th>0</th>\n",
       "      <td>1264499</td>\n",
       "      <td>2021-08-01</td>\n",
       "      <td>21824</td>\n",
       "      <td>PJ</td>\n",
       "      <td>390.0</td>\n",
       "      <td>MG</td>\n",
       "    </tr>\n",
       "    <tr>\n",
       "      <th>1</th>\n",
       "      <td>1253013</td>\n",
       "      <td>2021-09-01</td>\n",
       "      <td>21824</td>\n",
       "      <td>PJ</td>\n",
       "      <td>339.0</td>\n",
       "      <td>MG</td>\n",
       "    </tr>\n",
       "    <tr>\n",
       "      <th>2</th>\n",
       "      <td>1089580</td>\n",
       "      <td>2021-10-01</td>\n",
       "      <td>21824</td>\n",
       "      <td>PJ</td>\n",
       "      <td>513.0</td>\n",
       "      <td>MG</td>\n",
       "    </tr>\n",
       "    <tr>\n",
       "      <th>3</th>\n",
       "      <td>1043501</td>\n",
       "      <td>2021-11-01</td>\n",
       "      <td>21824</td>\n",
       "      <td>PJ</td>\n",
       "      <td>500.0</td>\n",
       "      <td>MG</td>\n",
       "    </tr>\n",
       "    <tr>\n",
       "      <th>4</th>\n",
       "      <td>964456</td>\n",
       "      <td>2021-12-01</td>\n",
       "      <td>21824</td>\n",
       "      <td>PJ</td>\n",
       "      <td>521.0</td>\n",
       "      <td>MG</td>\n",
       "    </tr>\n",
       "  </tbody>\n",
       "</table>\n",
       "</div>"
      ],
      "text/plain": [
       "        id  referencia  cliente_id tipo_cliente  consumo_kwh Estado_Sigla\n",
       "0  1264499  2021-08-01       21824           PJ        390.0           MG\n",
       "1  1253013  2021-09-01       21824           PJ        339.0           MG\n",
       "2  1089580  2021-10-01       21824           PJ        513.0           MG\n",
       "3  1043501  2021-11-01       21824           PJ        500.0           MG\n",
       "4   964456  2021-12-01       21824           PJ        521.0           MG"
      ]
     },
     "execution_count": 10,
     "metadata": {},
     "output_type": "execute_result"
    }
   ],
   "source": [
    "data.head()"
   ]
  },
  {
   "cell_type": "code",
   "execution_count": 11,
   "metadata": {},
   "outputs": [],
   "source": [
    "data['referencia'] = pd.to_datetime(data['referencia'].str.strip(), format='%Y-%m-%d')"
   ]
  },
  {
   "cell_type": "code",
   "execution_count": 12,
   "metadata": {},
   "outputs": [
    {
     "data": {
      "text/plain": [
       "id                       int64\n",
       "referencia      datetime64[ns]\n",
       "cliente_id               int64\n",
       "tipo_cliente            object\n",
       "consumo_kwh            float64\n",
       "Estado_Sigla            object\n",
       "dtype: object"
      ]
     },
     "execution_count": 12,
     "metadata": {},
     "output_type": "execute_result"
    }
   ],
   "source": [
    "data.dtypes"
   ]
  },
  {
   "cell_type": "code",
   "execution_count": 13,
   "metadata": {},
   "outputs": [
    {
     "data": {
      "text/html": [
       "<div>\n",
       "<style scoped>\n",
       "    .dataframe tbody tr th:only-of-type {\n",
       "        vertical-align: middle;\n",
       "    }\n",
       "\n",
       "    .dataframe tbody tr th {\n",
       "        vertical-align: top;\n",
       "    }\n",
       "\n",
       "    .dataframe thead th {\n",
       "        text-align: right;\n",
       "    }\n",
       "</style>\n",
       "<table border=\"1\" class=\"dataframe\">\n",
       "  <thead>\n",
       "    <tr style=\"text-align: right;\">\n",
       "      <th></th>\n",
       "      <th>id</th>\n",
       "      <th>referencia</th>\n",
       "      <th>cliente_id</th>\n",
       "      <th>tipo_cliente</th>\n",
       "      <th>consumo_kwh</th>\n",
       "      <th>Estado_Sigla</th>\n",
       "    </tr>\n",
       "  </thead>\n",
       "  <tbody>\n",
       "    <tr>\n",
       "      <th>0</th>\n",
       "      <td>1264499</td>\n",
       "      <td>2021-08-01</td>\n",
       "      <td>21824</td>\n",
       "      <td>PJ</td>\n",
       "      <td>390.0</td>\n",
       "      <td>MG</td>\n",
       "    </tr>\n",
       "    <tr>\n",
       "      <th>1</th>\n",
       "      <td>1253013</td>\n",
       "      <td>2021-09-01</td>\n",
       "      <td>21824</td>\n",
       "      <td>PJ</td>\n",
       "      <td>339.0</td>\n",
       "      <td>MG</td>\n",
       "    </tr>\n",
       "    <tr>\n",
       "      <th>2</th>\n",
       "      <td>1089580</td>\n",
       "      <td>2021-10-01</td>\n",
       "      <td>21824</td>\n",
       "      <td>PJ</td>\n",
       "      <td>513.0</td>\n",
       "      <td>MG</td>\n",
       "    </tr>\n",
       "    <tr>\n",
       "      <th>3</th>\n",
       "      <td>1043501</td>\n",
       "      <td>2021-11-01</td>\n",
       "      <td>21824</td>\n",
       "      <td>PJ</td>\n",
       "      <td>500.0</td>\n",
       "      <td>MG</td>\n",
       "    </tr>\n",
       "    <tr>\n",
       "      <th>4</th>\n",
       "      <td>964456</td>\n",
       "      <td>2021-12-01</td>\n",
       "      <td>21824</td>\n",
       "      <td>PJ</td>\n",
       "      <td>521.0</td>\n",
       "      <td>MG</td>\n",
       "    </tr>\n",
       "  </tbody>\n",
       "</table>\n",
       "</div>"
      ],
      "text/plain": [
       "        id referencia  cliente_id tipo_cliente  consumo_kwh Estado_Sigla\n",
       "0  1264499 2021-08-01       21824           PJ        390.0           MG\n",
       "1  1253013 2021-09-01       21824           PJ        339.0           MG\n",
       "2  1089580 2021-10-01       21824           PJ        513.0           MG\n",
       "3  1043501 2021-11-01       21824           PJ        500.0           MG\n",
       "4   964456 2021-12-01       21824           PJ        521.0           MG"
      ]
     },
     "execution_count": 13,
     "metadata": {},
     "output_type": "execute_result"
    }
   ],
   "source": [
    "data.head()"
   ]
  },
  {
   "cell_type": "code",
   "execution_count": 14,
   "metadata": {},
   "outputs": [
    {
     "data": {
      "text/plain": [
       "Index(['id', 'referencia', 'cliente_id', 'tipo_cliente', 'consumo_kwh',\n",
       "       'Estado_Sigla'],\n",
       "      dtype='object')"
      ]
     },
     "execution_count": 14,
     "metadata": {},
     "output_type": "execute_result"
    }
   ],
   "source": [
    "data.columns"
   ]
  },
  {
   "cell_type": "code",
   "execution_count": 16,
   "metadata": {},
   "outputs": [
    {
     "data": {
      "text/html": [
       "<div>\n",
       "<style scoped>\n",
       "    .dataframe tbody tr th:only-of-type {\n",
       "        vertical-align: middle;\n",
       "    }\n",
       "\n",
       "    .dataframe tbody tr th {\n",
       "        vertical-align: top;\n",
       "    }\n",
       "\n",
       "    .dataframe thead th {\n",
       "        text-align: right;\n",
       "    }\n",
       "</style>\n",
       "<table border=\"1\" class=\"dataframe\">\n",
       "  <thead>\n",
       "    <tr style=\"text-align: right;\">\n",
       "      <th></th>\n",
       "      <th>referencia</th>\n",
       "      <th>cliente_id</th>\n",
       "      <th>tipo_cliente</th>\n",
       "      <th>consumo_kwh</th>\n",
       "    </tr>\n",
       "  </thead>\n",
       "  <tbody>\n",
       "    <tr>\n",
       "      <th>0</th>\n",
       "      <td>2021-08-01</td>\n",
       "      <td>21824</td>\n",
       "      <td>PJ</td>\n",
       "      <td>390.0</td>\n",
       "    </tr>\n",
       "    <tr>\n",
       "      <th>1</th>\n",
       "      <td>2021-09-01</td>\n",
       "      <td>21824</td>\n",
       "      <td>PJ</td>\n",
       "      <td>339.0</td>\n",
       "    </tr>\n",
       "    <tr>\n",
       "      <th>2</th>\n",
       "      <td>2021-10-01</td>\n",
       "      <td>21824</td>\n",
       "      <td>PJ</td>\n",
       "      <td>513.0</td>\n",
       "    </tr>\n",
       "    <tr>\n",
       "      <th>3</th>\n",
       "      <td>2021-11-01</td>\n",
       "      <td>21824</td>\n",
       "      <td>PJ</td>\n",
       "      <td>500.0</td>\n",
       "    </tr>\n",
       "    <tr>\n",
       "      <th>4</th>\n",
       "      <td>2021-12-01</td>\n",
       "      <td>21824</td>\n",
       "      <td>PJ</td>\n",
       "      <td>521.0</td>\n",
       "    </tr>\n",
       "  </tbody>\n",
       "</table>\n",
       "</div>"
      ],
      "text/plain": [
       "  referencia  cliente_id tipo_cliente  consumo_kwh\n",
       "0 2021-08-01       21824           PJ        390.0\n",
       "1 2021-09-01       21824           PJ        339.0\n",
       "2 2021-10-01       21824           PJ        513.0\n",
       "3 2021-11-01       21824           PJ        500.0\n",
       "4 2021-12-01       21824           PJ        521.0"
      ]
     },
     "execution_count": 16,
     "metadata": {},
     "output_type": "execute_result"
    }
   ],
   "source": [
    "data = data[['referencia', 'cliente_id', 'tipo_cliente', 'consumo_kwh']]\n",
    "data.head()"
   ]
  },
  {
   "cell_type": "code",
   "execution_count": 17,
   "metadata": {},
   "outputs": [
    {
     "data": {
      "text/html": [
       "<div>\n",
       "<style scoped>\n",
       "    .dataframe tbody tr th:only-of-type {\n",
       "        vertical-align: middle;\n",
       "    }\n",
       "\n",
       "    .dataframe tbody tr th {\n",
       "        vertical-align: top;\n",
       "    }\n",
       "\n",
       "    .dataframe thead th {\n",
       "        text-align: right;\n",
       "    }\n",
       "</style>\n",
       "<table border=\"1\" class=\"dataframe\">\n",
       "  <thead>\n",
       "    <tr style=\"text-align: right;\">\n",
       "      <th></th>\n",
       "      <th>cliente_id</th>\n",
       "      <th>N</th>\n",
       "    </tr>\n",
       "  </thead>\n",
       "  <tbody>\n",
       "    <tr>\n",
       "      <th>0</th>\n",
       "      <td>10</td>\n",
       "      <td>22</td>\n",
       "    </tr>\n",
       "    <tr>\n",
       "      <th>1</th>\n",
       "      <td>46</td>\n",
       "      <td>22</td>\n",
       "    </tr>\n",
       "    <tr>\n",
       "      <th>2</th>\n",
       "      <td>62</td>\n",
       "      <td>8</td>\n",
       "    </tr>\n",
       "    <tr>\n",
       "      <th>3</th>\n",
       "      <td>180</td>\n",
       "      <td>22</td>\n",
       "    </tr>\n",
       "    <tr>\n",
       "      <th>4</th>\n",
       "      <td>186</td>\n",
       "      <td>22</td>\n",
       "    </tr>\n",
       "  </tbody>\n",
       "</table>\n",
       "</div>"
      ],
      "text/plain": [
       "   cliente_id   N\n",
       "0          10  22\n",
       "1          46  22\n",
       "2          62   8\n",
       "3         180  22\n",
       "4         186  22"
      ]
     },
     "execution_count": 17,
     "metadata": {},
     "output_type": "execute_result"
    }
   ],
   "source": [
    "a = data.groupby(['cliente_id']).agg(N = ('referencia', 'count')).reset_index()\n",
    "a.head()"
   ]
  },
  {
   "cell_type": "code",
   "execution_count": 18,
   "metadata": {},
   "outputs": [
    {
     "data": {
      "text/plain": [
       "count    21810.000000\n",
       "mean        17.417240\n",
       "std          5.332956\n",
       "min          1.000000\n",
       "25%         15.000000\n",
       "50%         19.000000\n",
       "75%         22.000000\n",
       "max         66.000000\n",
       "Name: N, dtype: float64"
      ]
     },
     "execution_count": 18,
     "metadata": {},
     "output_type": "execute_result"
    }
   ],
   "source": [
    "a['N'].describe()"
   ]
  },
  {
   "cell_type": "code",
   "execution_count": 19,
   "metadata": {},
   "outputs": [
    {
     "data": {
      "text/plain": [
       "(20662, 2)"
      ]
     },
     "execution_count": 19,
     "metadata": {},
     "output_type": "execute_result"
    }
   ],
   "source": [
    "a = a[(a['N'] >= 6)]\n",
    "a.shape"
   ]
  },
  {
   "cell_type": "code",
   "execution_count": 21,
   "metadata": {},
   "outputs": [
    {
     "data": {
      "text/plain": [
       "(376697, 5)"
      ]
     },
     "execution_count": 21,
     "metadata": {},
     "output_type": "execute_result"
    }
   ],
   "source": [
    "data = data.merge(a, on=['cliente_id'], how='left')\n",
    "data = data[data['N'].notna()]\n",
    "data.shape\n",
    "#(379870, 13)"
   ]
  },
  {
   "cell_type": "code",
   "execution_count": 22,
   "metadata": {},
   "outputs": [
    {
     "data": {
      "text/html": [
       "<div>\n",
       "<style scoped>\n",
       "    .dataframe tbody tr th:only-of-type {\n",
       "        vertical-align: middle;\n",
       "    }\n",
       "\n",
       "    .dataframe tbody tr th {\n",
       "        vertical-align: top;\n",
       "    }\n",
       "\n",
       "    .dataframe thead th {\n",
       "        text-align: right;\n",
       "    }\n",
       "</style>\n",
       "<table border=\"1\" class=\"dataframe\">\n",
       "  <thead>\n",
       "    <tr style=\"text-align: right;\">\n",
       "      <th></th>\n",
       "      <th>referencia</th>\n",
       "      <th>cliente_id</th>\n",
       "      <th>tipo_cliente</th>\n",
       "      <th>consumo_kwh</th>\n",
       "      <th>N</th>\n",
       "    </tr>\n",
       "  </thead>\n",
       "  <tbody>\n",
       "    <tr>\n",
       "      <th>0</th>\n",
       "      <td>2021-08-01</td>\n",
       "      <td>21824</td>\n",
       "      <td>PJ</td>\n",
       "      <td>390.0</td>\n",
       "      <td>22.0</td>\n",
       "    </tr>\n",
       "    <tr>\n",
       "      <th>1</th>\n",
       "      <td>2021-09-01</td>\n",
       "      <td>21824</td>\n",
       "      <td>PJ</td>\n",
       "      <td>339.0</td>\n",
       "      <td>22.0</td>\n",
       "    </tr>\n",
       "    <tr>\n",
       "      <th>2</th>\n",
       "      <td>2021-10-01</td>\n",
       "      <td>21824</td>\n",
       "      <td>PJ</td>\n",
       "      <td>513.0</td>\n",
       "      <td>22.0</td>\n",
       "    </tr>\n",
       "    <tr>\n",
       "      <th>3</th>\n",
       "      <td>2021-11-01</td>\n",
       "      <td>21824</td>\n",
       "      <td>PJ</td>\n",
       "      <td>500.0</td>\n",
       "      <td>22.0</td>\n",
       "    </tr>\n",
       "    <tr>\n",
       "      <th>4</th>\n",
       "      <td>2021-12-01</td>\n",
       "      <td>21824</td>\n",
       "      <td>PJ</td>\n",
       "      <td>521.0</td>\n",
       "      <td>22.0</td>\n",
       "    </tr>\n",
       "  </tbody>\n",
       "</table>\n",
       "</div>"
      ],
      "text/plain": [
       "  referencia  cliente_id tipo_cliente  consumo_kwh     N\n",
       "0 2021-08-01       21824           PJ        390.0  22.0\n",
       "1 2021-09-01       21824           PJ        339.0  22.0\n",
       "2 2021-10-01       21824           PJ        513.0  22.0\n",
       "3 2021-11-01       21824           PJ        500.0  22.0\n",
       "4 2021-12-01       21824           PJ        521.0  22.0"
      ]
     },
     "execution_count": 22,
     "metadata": {},
     "output_type": "execute_result"
    }
   ],
   "source": [
    "data.head()"
   ]
  },
  {
   "cell_type": "code",
   "execution_count": 23,
   "metadata": {},
   "outputs": [
    {
     "data": {
      "text/html": [
       "<div>\n",
       "<style scoped>\n",
       "    .dataframe tbody tr th:only-of-type {\n",
       "        vertical-align: middle;\n",
       "    }\n",
       "\n",
       "    .dataframe tbody tr th {\n",
       "        vertical-align: top;\n",
       "    }\n",
       "\n",
       "    .dataframe thead th {\n",
       "        text-align: right;\n",
       "    }\n",
       "</style>\n",
       "<table border=\"1\" class=\"dataframe\">\n",
       "  <thead>\n",
       "    <tr style=\"text-align: right;\">\n",
       "      <th></th>\n",
       "      <th>referencia</th>\n",
       "      <th>cliente_id</th>\n",
       "      <th>tipo_cliente</th>\n",
       "      <th>consumo_kwh</th>\n",
       "      <th>N</th>\n",
       "    </tr>\n",
       "  </thead>\n",
       "  <tbody>\n",
       "    <tr>\n",
       "      <th>379865</th>\n",
       "      <td>2023-01-01</td>\n",
       "      <td>39822</td>\n",
       "      <td>PJ</td>\n",
       "      <td>4771.0</td>\n",
       "      <td>18.0</td>\n",
       "    </tr>\n",
       "    <tr>\n",
       "      <th>379866</th>\n",
       "      <td>2023-02-01</td>\n",
       "      <td>39822</td>\n",
       "      <td>PJ</td>\n",
       "      <td>4910.0</td>\n",
       "      <td>18.0</td>\n",
       "    </tr>\n",
       "    <tr>\n",
       "      <th>379867</th>\n",
       "      <td>2023-03-01</td>\n",
       "      <td>39822</td>\n",
       "      <td>PJ</td>\n",
       "      <td>5672.0</td>\n",
       "      <td>18.0</td>\n",
       "    </tr>\n",
       "    <tr>\n",
       "      <th>379868</th>\n",
       "      <td>2023-04-01</td>\n",
       "      <td>39822</td>\n",
       "      <td>PJ</td>\n",
       "      <td>4986.0</td>\n",
       "      <td>18.0</td>\n",
       "    </tr>\n",
       "    <tr>\n",
       "      <th>379869</th>\n",
       "      <td>2023-05-01</td>\n",
       "      <td>39822</td>\n",
       "      <td>PJ</td>\n",
       "      <td>5358.0</td>\n",
       "      <td>18.0</td>\n",
       "    </tr>\n",
       "  </tbody>\n",
       "</table>\n",
       "</div>"
      ],
      "text/plain": [
       "       referencia  cliente_id tipo_cliente  consumo_kwh     N\n",
       "379865 2023-01-01       39822           PJ       4771.0  18.0\n",
       "379866 2023-02-01       39822           PJ       4910.0  18.0\n",
       "379867 2023-03-01       39822           PJ       5672.0  18.0\n",
       "379868 2023-04-01       39822           PJ       4986.0  18.0\n",
       "379869 2023-05-01       39822           PJ       5358.0  18.0"
      ]
     },
     "execution_count": 23,
     "metadata": {},
     "output_type": "execute_result"
    }
   ],
   "source": [
    "data.tail()"
   ]
  },
  {
   "cell_type": "code",
   "execution_count": 26,
   "metadata": {},
   "outputs": [
    {
     "data": {
      "text/html": [
       "<div>\n",
       "<style scoped>\n",
       "    .dataframe tbody tr th:only-of-type {\n",
       "        vertical-align: middle;\n",
       "    }\n",
       "\n",
       "    .dataframe tbody tr th {\n",
       "        vertical-align: top;\n",
       "    }\n",
       "\n",
       "    .dataframe thead th {\n",
       "        text-align: right;\n",
       "    }\n",
       "</style>\n",
       "<table border=\"1\" class=\"dataframe\">\n",
       "  <thead>\n",
       "    <tr style=\"text-align: right;\">\n",
       "      <th></th>\n",
       "      <th>referencia</th>\n",
       "      <th>cliente_id</th>\n",
       "      <th>tipo_cliente</th>\n",
       "      <th>consumo_kwh</th>\n",
       "      <th>N</th>\n",
       "    </tr>\n",
       "  </thead>\n",
       "  <tbody>\n",
       "    <tr>\n",
       "      <th>379852</th>\n",
       "      <td>2021-12-01</td>\n",
       "      <td>39822</td>\n",
       "      <td>PJ</td>\n",
       "      <td>6246.0</td>\n",
       "      <td>18.0</td>\n",
       "    </tr>\n",
       "    <tr>\n",
       "      <th>379853</th>\n",
       "      <td>2022-01-01</td>\n",
       "      <td>39822</td>\n",
       "      <td>PJ</td>\n",
       "      <td>4668.0</td>\n",
       "      <td>18.0</td>\n",
       "    </tr>\n",
       "    <tr>\n",
       "      <th>379854</th>\n",
       "      <td>2022-02-01</td>\n",
       "      <td>39822</td>\n",
       "      <td>PJ</td>\n",
       "      <td>4615.0</td>\n",
       "      <td>18.0</td>\n",
       "    </tr>\n",
       "    <tr>\n",
       "      <th>379855</th>\n",
       "      <td>2022-03-01</td>\n",
       "      <td>39822</td>\n",
       "      <td>PJ</td>\n",
       "      <td>5480.0</td>\n",
       "      <td>18.0</td>\n",
       "    </tr>\n",
       "    <tr>\n",
       "      <th>379856</th>\n",
       "      <td>2022-04-01</td>\n",
       "      <td>39822</td>\n",
       "      <td>PJ</td>\n",
       "      <td>4803.0</td>\n",
       "      <td>18.0</td>\n",
       "    </tr>\n",
       "    <tr>\n",
       "      <th>379857</th>\n",
       "      <td>2022-05-01</td>\n",
       "      <td>39822</td>\n",
       "      <td>PJ</td>\n",
       "      <td>5392.0</td>\n",
       "      <td>18.0</td>\n",
       "    </tr>\n",
       "    <tr>\n",
       "      <th>379858</th>\n",
       "      <td>2022-06-01</td>\n",
       "      <td>39822</td>\n",
       "      <td>PJ</td>\n",
       "      <td>4762.0</td>\n",
       "      <td>18.0</td>\n",
       "    </tr>\n",
       "    <tr>\n",
       "      <th>379859</th>\n",
       "      <td>2022-07-01</td>\n",
       "      <td>39822</td>\n",
       "      <td>PJ</td>\n",
       "      <td>4786.0</td>\n",
       "      <td>18.0</td>\n",
       "    </tr>\n",
       "    <tr>\n",
       "      <th>379860</th>\n",
       "      <td>2022-08-01</td>\n",
       "      <td>39822</td>\n",
       "      <td>PJ</td>\n",
       "      <td>4608.0</td>\n",
       "      <td>18.0</td>\n",
       "    </tr>\n",
       "    <tr>\n",
       "      <th>379861</th>\n",
       "      <td>2022-09-01</td>\n",
       "      <td>39822</td>\n",
       "      <td>PJ</td>\n",
       "      <td>4513.0</td>\n",
       "      <td>18.0</td>\n",
       "    </tr>\n",
       "    <tr>\n",
       "      <th>379862</th>\n",
       "      <td>2022-10-01</td>\n",
       "      <td>39822</td>\n",
       "      <td>PJ</td>\n",
       "      <td>5300.0</td>\n",
       "      <td>18.0</td>\n",
       "    </tr>\n",
       "    <tr>\n",
       "      <th>379863</th>\n",
       "      <td>2022-11-01</td>\n",
       "      <td>39822</td>\n",
       "      <td>PJ</td>\n",
       "      <td>4970.0</td>\n",
       "      <td>18.0</td>\n",
       "    </tr>\n",
       "    <tr>\n",
       "      <th>379864</th>\n",
       "      <td>2022-12-01</td>\n",
       "      <td>39822</td>\n",
       "      <td>PJ</td>\n",
       "      <td>4732.0</td>\n",
       "      <td>18.0</td>\n",
       "    </tr>\n",
       "    <tr>\n",
       "      <th>379865</th>\n",
       "      <td>2023-01-01</td>\n",
       "      <td>39822</td>\n",
       "      <td>PJ</td>\n",
       "      <td>4771.0</td>\n",
       "      <td>18.0</td>\n",
       "    </tr>\n",
       "    <tr>\n",
       "      <th>379866</th>\n",
       "      <td>2023-02-01</td>\n",
       "      <td>39822</td>\n",
       "      <td>PJ</td>\n",
       "      <td>4910.0</td>\n",
       "      <td>18.0</td>\n",
       "    </tr>\n",
       "    <tr>\n",
       "      <th>379867</th>\n",
       "      <td>2023-03-01</td>\n",
       "      <td>39822</td>\n",
       "      <td>PJ</td>\n",
       "      <td>5672.0</td>\n",
       "      <td>18.0</td>\n",
       "    </tr>\n",
       "    <tr>\n",
       "      <th>379868</th>\n",
       "      <td>2023-04-01</td>\n",
       "      <td>39822</td>\n",
       "      <td>PJ</td>\n",
       "      <td>4986.0</td>\n",
       "      <td>18.0</td>\n",
       "    </tr>\n",
       "    <tr>\n",
       "      <th>379869</th>\n",
       "      <td>2023-05-01</td>\n",
       "      <td>39822</td>\n",
       "      <td>PJ</td>\n",
       "      <td>5358.0</td>\n",
       "      <td>18.0</td>\n",
       "    </tr>\n",
       "  </tbody>\n",
       "</table>\n",
       "</div>"
      ],
      "text/plain": [
       "       referencia  cliente_id tipo_cliente  consumo_kwh     N\n",
       "379852 2021-12-01       39822           PJ       6246.0  18.0\n",
       "379853 2022-01-01       39822           PJ       4668.0  18.0\n",
       "379854 2022-02-01       39822           PJ       4615.0  18.0\n",
       "379855 2022-03-01       39822           PJ       5480.0  18.0\n",
       "379856 2022-04-01       39822           PJ       4803.0  18.0\n",
       "379857 2022-05-01       39822           PJ       5392.0  18.0\n",
       "379858 2022-06-01       39822           PJ       4762.0  18.0\n",
       "379859 2022-07-01       39822           PJ       4786.0  18.0\n",
       "379860 2022-08-01       39822           PJ       4608.0  18.0\n",
       "379861 2022-09-01       39822           PJ       4513.0  18.0\n",
       "379862 2022-10-01       39822           PJ       5300.0  18.0\n",
       "379863 2022-11-01       39822           PJ       4970.0  18.0\n",
       "379864 2022-12-01       39822           PJ       4732.0  18.0\n",
       "379865 2023-01-01       39822           PJ       4771.0  18.0\n",
       "379866 2023-02-01       39822           PJ       4910.0  18.0\n",
       "379867 2023-03-01       39822           PJ       5672.0  18.0\n",
       "379868 2023-04-01       39822           PJ       4986.0  18.0\n",
       "379869 2023-05-01       39822           PJ       5358.0  18.0"
      ]
     },
     "execution_count": 26,
     "metadata": {},
     "output_type": "execute_result"
    }
   ],
   "source": [
    "data24 = data[(data['cliente_id'] == 39822)]\n",
    "data24"
   ]
  },
  {
   "cell_type": "code",
   "execution_count": 28,
   "metadata": {},
   "outputs": [
    {
     "data": {
      "text/plain": [
       "array([39822], dtype=int64)"
      ]
     },
     "execution_count": 28,
     "metadata": {},
     "output_type": "execute_result"
    }
   ],
   "source": [
    "uc_cliente = data24['cliente_id'].unique()\n",
    "uc_cliente"
   ]
  },
  {
   "cell_type": "code",
   "execution_count": 29,
   "metadata": {},
   "outputs": [
    {
     "data": {
      "text/html": [
       "<div>\n",
       "<style scoped>\n",
       "    .dataframe tbody tr th:only-of-type {\n",
       "        vertical-align: middle;\n",
       "    }\n",
       "\n",
       "    .dataframe tbody tr th {\n",
       "        vertical-align: top;\n",
       "    }\n",
       "\n",
       "    .dataframe thead th {\n",
       "        text-align: right;\n",
       "    }\n",
       "</style>\n",
       "<table border=\"1\" class=\"dataframe\">\n",
       "  <thead>\n",
       "    <tr style=\"text-align: right;\">\n",
       "      <th></th>\n",
       "      <th>consumo_kwh</th>\n",
       "    </tr>\n",
       "    <tr>\n",
       "      <th>referencia</th>\n",
       "      <th></th>\n",
       "    </tr>\n",
       "  </thead>\n",
       "  <tbody>\n",
       "    <tr>\n",
       "      <th>2021-12-01</th>\n",
       "      <td>6246.0</td>\n",
       "    </tr>\n",
       "    <tr>\n",
       "      <th>2022-01-01</th>\n",
       "      <td>4668.0</td>\n",
       "    </tr>\n",
       "    <tr>\n",
       "      <th>2022-02-01</th>\n",
       "      <td>4615.0</td>\n",
       "    </tr>\n",
       "    <tr>\n",
       "      <th>2022-03-01</th>\n",
       "      <td>5480.0</td>\n",
       "    </tr>\n",
       "    <tr>\n",
       "      <th>2022-04-01</th>\n",
       "      <td>4803.0</td>\n",
       "    </tr>\n",
       "  </tbody>\n",
       "</table>\n",
       "</div>"
      ],
      "text/plain": [
       "            consumo_kwh\n",
       "referencia             \n",
       "2021-12-01       6246.0\n",
       "2022-01-01       4668.0\n",
       "2022-02-01       4615.0\n",
       "2022-03-01       5480.0\n",
       "2022-04-01       4803.0"
      ]
     },
     "execution_count": 29,
     "metadata": {},
     "output_type": "execute_result"
    }
   ],
   "source": [
    "data24 = data24[['referencia', 'consumo_kwh']]\n",
    "data24 = data24.set_index(['referencia'])\n",
    "data24.head()"
   ]
  },
  {
   "cell_type": "code",
   "execution_count": 30,
   "metadata": {},
   "outputs": [
    {
     "data": {
      "text/plain": [
       "((17, 1), (17,), (1, 1), (1,))"
      ]
     },
     "execution_count": 30,
     "metadata": {},
     "output_type": "execute_result"
    }
   ],
   "source": [
    "TEST_SIZE = 1\n",
    "train, test = data24.iloc[:-TEST_SIZE], data24.iloc[-TEST_SIZE:]\n",
    "x_train, x_test = np.array(range(train.shape[0])), np.array(range(train.shape[0], data24.shape[0]))\n",
    "train.shape, x_train.shape, test.shape, x_test.shape"
   ]
  },
  {
   "cell_type": "code",
   "execution_count": 31,
   "metadata": {},
   "outputs": [
    {
     "data": {
      "text/html": [
       "<div>\n",
       "<style scoped>\n",
       "    .dataframe tbody tr th:only-of-type {\n",
       "        vertical-align: middle;\n",
       "    }\n",
       "\n",
       "    .dataframe tbody tr th {\n",
       "        vertical-align: top;\n",
       "    }\n",
       "\n",
       "    .dataframe thead th {\n",
       "        text-align: right;\n",
       "    }\n",
       "</style>\n",
       "<table border=\"1\" class=\"dataframe\">\n",
       "  <thead>\n",
       "    <tr style=\"text-align: right;\">\n",
       "      <th></th>\n",
       "      <th>referencia</th>\n",
       "      <th>consumo_kwh</th>\n",
       "      <th>Tipo</th>\n",
       "      <th>Var_pct</th>\n",
       "      <th>MAPE</th>\n",
       "      <th>RMSE</th>\n",
       "      <th>MAE</th>\n",
       "      <th>uc</th>\n",
       "    </tr>\n",
       "  </thead>\n",
       "  <tbody>\n",
       "    <tr>\n",
       "      <th>0</th>\n",
       "      <td>2021-12-01</td>\n",
       "      <td>6246.0</td>\n",
       "      <td>Real</td>\n",
       "      <td>0.0</td>\n",
       "      <td>0.0</td>\n",
       "      <td>0.0</td>\n",
       "      <td>0.0</td>\n",
       "      <td>39822</td>\n",
       "    </tr>\n",
       "    <tr>\n",
       "      <th>1</th>\n",
       "      <td>2022-01-01</td>\n",
       "      <td>4668.0</td>\n",
       "      <td>Real</td>\n",
       "      <td>0.0</td>\n",
       "      <td>0.0</td>\n",
       "      <td>0.0</td>\n",
       "      <td>0.0</td>\n",
       "      <td>39822</td>\n",
       "    </tr>\n",
       "    <tr>\n",
       "      <th>2</th>\n",
       "      <td>2022-02-01</td>\n",
       "      <td>4615.0</td>\n",
       "      <td>Real</td>\n",
       "      <td>0.0</td>\n",
       "      <td>0.0</td>\n",
       "      <td>0.0</td>\n",
       "      <td>0.0</td>\n",
       "      <td>39822</td>\n",
       "    </tr>\n",
       "    <tr>\n",
       "      <th>3</th>\n",
       "      <td>2022-03-01</td>\n",
       "      <td>5480.0</td>\n",
       "      <td>Real</td>\n",
       "      <td>0.0</td>\n",
       "      <td>0.0</td>\n",
       "      <td>0.0</td>\n",
       "      <td>0.0</td>\n",
       "      <td>39822</td>\n",
       "    </tr>\n",
       "    <tr>\n",
       "      <th>4</th>\n",
       "      <td>2022-04-01</td>\n",
       "      <td>4803.0</td>\n",
       "      <td>Real</td>\n",
       "      <td>0.0</td>\n",
       "      <td>0.0</td>\n",
       "      <td>0.0</td>\n",
       "      <td>0.0</td>\n",
       "      <td>39822</td>\n",
       "    </tr>\n",
       "  </tbody>\n",
       "</table>\n",
       "</div>"
      ],
      "text/plain": [
       "  referencia  consumo_kwh  Tipo  Var_pct  MAPE  RMSE  MAE     uc\n",
       "0 2021-12-01       6246.0  Real      0.0   0.0   0.0  0.0  39822\n",
       "1 2022-01-01       4668.0  Real      0.0   0.0   0.0  0.0  39822\n",
       "2 2022-02-01       4615.0  Real      0.0   0.0   0.0  0.0  39822\n",
       "3 2022-03-01       5480.0  Real      0.0   0.0   0.0  0.0  39822\n",
       "4 2022-04-01       4803.0  Real      0.0   0.0   0.0  0.0  39822"
      ]
     },
     "execution_count": 31,
     "metadata": {},
     "output_type": "execute_result"
    }
   ],
   "source": [
    "data24 = data24.reset_index()\n",
    "data24['Tipo'] = 'Real'\n",
    "data24['Var_pct'] = 0.0\n",
    "data24['MAPE'] = 0.0\n",
    "data24['RMSE'] = 0.0\n",
    "data24['MAE'] = 0.0\n",
    "data24['uc'] = uc_cliente[0]\n",
    "data24.head()"
   ]
  },
  {
   "cell_type": "code",
   "execution_count": 32,
   "metadata": {},
   "outputs": [
    {
     "name": "stdout",
     "output_type": "stream",
     "text": [
      "Performing stepwise search to minimize aic\n",
      " ARIMA(1,1,1)(0,0,0)[0] intercept   : AIC=inf, Time=0.05 sec\n",
      " ARIMA(0,1,0)(0,0,0)[0] intercept   : AIC=255.394, Time=0.00 sec\n",
      " ARIMA(1,1,0)(0,0,0)[0] intercept   : AIC=249.535, Time=0.03 sec\n",
      " ARIMA(0,1,1)(0,0,0)[0] intercept   : AIC=inf, Time=0.02 sec\n",
      " ARIMA(0,1,0)(0,0,0)[0]             : AIC=253.647, Time=0.00 sec\n",
      " ARIMA(2,1,0)(0,0,0)[0] intercept   : AIC=245.723, Time=0.05 sec\n",
      " ARIMA(3,1,0)(0,0,0)[0] intercept   : AIC=247.624, Time=0.09 sec\n",
      " ARIMA(2,1,1)(0,0,0)[0] intercept   : AIC=inf, Time=0.06 sec\n",
      " ARIMA(3,1,1)(0,0,0)[0] intercept   : AIC=inf, Time=0.14 sec\n",
      " ARIMA(2,1,0)(0,0,0)[0]             : AIC=243.739, Time=0.02 sec\n",
      " ARIMA(1,1,0)(0,0,0)[0]             : AIC=247.562, Time=0.02 sec\n",
      " ARIMA(3,1,0)(0,0,0)[0]             : AIC=245.644, Time=0.07 sec\n",
      " ARIMA(2,1,1)(0,0,0)[0]             : AIC=inf, Time=0.03 sec\n",
      " ARIMA(1,1,1)(0,0,0)[0]             : AIC=inf, Time=0.03 sec\n",
      " ARIMA(3,1,1)(0,0,0)[0]             : AIC=inf, Time=0.10 sec\n",
      "\n",
      "Best model:  ARIMA(2,1,0)(0,0,0)[0]          \n",
      "Total fit time: 0.716 seconds\n"
     ]
    }
   ],
   "source": [
    "model = auto_arima(train, start_p=1, start_q=1,\n",
    "                      test='adf',\n",
    "                      max_p=5, max_q=5,\n",
    "                      m=1,             \n",
    "                      d=1,          \n",
    "                      seasonal=False,   \n",
    "                      start_P=0, \n",
    "                      D=None, \n",
    "                      trace=True,\n",
    "                      error_action='ignore',  \n",
    "                      suppress_warnings=True, \n",
    "                      stepwise=True)"
   ]
  },
  {
   "cell_type": "code",
   "execution_count": 33,
   "metadata": {},
   "outputs": [
    {
     "data": {
      "text/html": [
       "<div>\n",
       "<style scoped>\n",
       "    .dataframe tbody tr th:only-of-type {\n",
       "        vertical-align: middle;\n",
       "    }\n",
       "\n",
       "    .dataframe tbody tr th {\n",
       "        vertical-align: top;\n",
       "    }\n",
       "\n",
       "    .dataframe thead th {\n",
       "        text-align: right;\n",
       "    }\n",
       "</style>\n",
       "<table border=\"1\" class=\"dataframe\">\n",
       "  <thead>\n",
       "    <tr style=\"text-align: right;\">\n",
       "      <th></th>\n",
       "      <th>referencia</th>\n",
       "      <th>consumo_kwh</th>\n",
       "      <th>Tipo</th>\n",
       "      <th>Var_pct</th>\n",
       "      <th>MAPE</th>\n",
       "      <th>RMSE</th>\n",
       "      <th>MAE</th>\n",
       "      <th>uc</th>\n",
       "    </tr>\n",
       "  </thead>\n",
       "  <tbody>\n",
       "    <tr>\n",
       "      <th>13</th>\n",
       "      <td>2023-01-01</td>\n",
       "      <td>4771.0</td>\n",
       "      <td>Real</td>\n",
       "      <td>0.0</td>\n",
       "      <td>0.0</td>\n",
       "      <td>0.0</td>\n",
       "      <td>0.0</td>\n",
       "      <td>39822</td>\n",
       "    </tr>\n",
       "    <tr>\n",
       "      <th>14</th>\n",
       "      <td>2023-02-01</td>\n",
       "      <td>4910.0</td>\n",
       "      <td>Real</td>\n",
       "      <td>0.0</td>\n",
       "      <td>0.0</td>\n",
       "      <td>0.0</td>\n",
       "      <td>0.0</td>\n",
       "      <td>39822</td>\n",
       "    </tr>\n",
       "    <tr>\n",
       "      <th>15</th>\n",
       "      <td>2023-03-01</td>\n",
       "      <td>5672.0</td>\n",
       "      <td>Real</td>\n",
       "      <td>0.0</td>\n",
       "      <td>0.0</td>\n",
       "      <td>0.0</td>\n",
       "      <td>0.0</td>\n",
       "      <td>39822</td>\n",
       "    </tr>\n",
       "    <tr>\n",
       "      <th>16</th>\n",
       "      <td>2023-04-01</td>\n",
       "      <td>4986.0</td>\n",
       "      <td>Real</td>\n",
       "      <td>0.0</td>\n",
       "      <td>0.0</td>\n",
       "      <td>0.0</td>\n",
       "      <td>0.0</td>\n",
       "      <td>39822</td>\n",
       "    </tr>\n",
       "    <tr>\n",
       "      <th>17</th>\n",
       "      <td>2023-05-01</td>\n",
       "      <td>5358.0</td>\n",
       "      <td>Real</td>\n",
       "      <td>0.0</td>\n",
       "      <td>0.0</td>\n",
       "      <td>0.0</td>\n",
       "      <td>0.0</td>\n",
       "      <td>39822</td>\n",
       "    </tr>\n",
       "  </tbody>\n",
       "</table>\n",
       "</div>"
      ],
      "text/plain": [
       "   referencia  consumo_kwh  Tipo  Var_pct  MAPE  RMSE  MAE     uc\n",
       "13 2023-01-01       4771.0  Real      0.0   0.0   0.0  0.0  39822\n",
       "14 2023-02-01       4910.0  Real      0.0   0.0   0.0  0.0  39822\n",
       "15 2023-03-01       5672.0  Real      0.0   0.0   0.0  0.0  39822\n",
       "16 2023-04-01       4986.0  Real      0.0   0.0   0.0  0.0  39822\n",
       "17 2023-05-01       5358.0  Real      0.0   0.0   0.0  0.0  39822"
      ]
     },
     "execution_count": 33,
     "metadata": {},
     "output_type": "execute_result"
    }
   ],
   "source": [
    "data24.tail()"
   ]
  },
  {
   "cell_type": "code",
   "execution_count": 34,
   "metadata": {},
   "outputs": [
    {
     "data": {
      "text/plain": [
       "2023-05-01    5210.343806\n",
       "Freq: MS, dtype: float64"
      ]
     },
     "execution_count": 34,
     "metadata": {},
     "output_type": "execute_result"
    }
   ],
   "source": [
    "# Forecast\n",
    "\n",
    "prediction, confint = model.predict(n_periods=TEST_SIZE, return_conf_int=True)\n",
    "\n",
    "prediction"
   ]
  },
  {
   "cell_type": "code",
   "execution_count": 35,
   "metadata": {},
   "outputs": [
    {
     "data": {
      "text/html": [
       "<div>\n",
       "<style scoped>\n",
       "    .dataframe tbody tr th:only-of-type {\n",
       "        vertical-align: middle;\n",
       "    }\n",
       "\n",
       "    .dataframe tbody tr th {\n",
       "        vertical-align: top;\n",
       "    }\n",
       "\n",
       "    .dataframe thead th {\n",
       "        text-align: right;\n",
       "    }\n",
       "</style>\n",
       "<table border=\"1\" class=\"dataframe\">\n",
       "  <thead>\n",
       "    <tr style=\"text-align: right;\">\n",
       "      <th></th>\n",
       "      <th>index</th>\n",
       "      <th>0</th>\n",
       "    </tr>\n",
       "  </thead>\n",
       "  <tbody>\n",
       "    <tr>\n",
       "      <th>0</th>\n",
       "      <td>2023-05-01</td>\n",
       "      <td>5210.343806</td>\n",
       "    </tr>\n",
       "  </tbody>\n",
       "</table>\n",
       "</div>"
      ],
      "text/plain": [
       "       index            0\n",
       "0 2023-05-01  5210.343806"
      ]
     },
     "execution_count": 35,
     "metadata": {},
     "output_type": "execute_result"
    }
   ],
   "source": [
    "b = prediction.reset_index()\n",
    "b"
   ]
  },
  {
   "cell_type": "code",
   "execution_count": 36,
   "metadata": {},
   "outputs": [
    {
     "data": {
      "text/html": [
       "<div>\n",
       "<style scoped>\n",
       "    .dataframe tbody tr th:only-of-type {\n",
       "        vertical-align: middle;\n",
       "    }\n",
       "\n",
       "    .dataframe tbody tr th {\n",
       "        vertical-align: top;\n",
       "    }\n",
       "\n",
       "    .dataframe thead th {\n",
       "        text-align: right;\n",
       "    }\n",
       "</style>\n",
       "<table border=\"1\" class=\"dataframe\">\n",
       "  <thead>\n",
       "    <tr style=\"text-align: right;\">\n",
       "      <th></th>\n",
       "      <th>referencia</th>\n",
       "      <th>consumo_kwh</th>\n",
       "      <th>Tipo</th>\n",
       "      <th>Var_pct</th>\n",
       "      <th>MAPE</th>\n",
       "      <th>RMSE</th>\n",
       "      <th>MAE</th>\n",
       "      <th>uc</th>\n",
       "    </tr>\n",
       "  </thead>\n",
       "  <tbody>\n",
       "    <tr>\n",
       "      <th>0</th>\n",
       "      <td>2023-05-01</td>\n",
       "      <td>5210.343806</td>\n",
       "      <td>Previsto</td>\n",
       "      <td>-2.755808</td>\n",
       "      <td>0.027558</td>\n",
       "      <td>147.656194</td>\n",
       "      <td>147.656194</td>\n",
       "      <td>39822</td>\n",
       "    </tr>\n",
       "  </tbody>\n",
       "</table>\n",
       "</div>"
      ],
      "text/plain": [
       "  referencia  consumo_kwh      Tipo   Var_pct      MAPE        RMSE  \\\n",
       "0 2023-05-01  5210.343806  Previsto -2.755808  0.027558  147.656194   \n",
       "\n",
       "          MAE     uc  \n",
       "0  147.656194  39822  "
      ]
     },
     "execution_count": 36,
     "metadata": {},
     "output_type": "execute_result"
    }
   ],
   "source": [
    "b['Tipo'] = 'Previsto'\n",
    "b['Var_pct'] = ((b[0] - data24.loc[17, 'consumo_kwh']) / data24.loc[17, 'consumo_kwh']) * 100\n",
    "b['MAPE'] = mean_absolute_percentage_error(test.consumo_kwh, prediction)\n",
    "b['RMSE'] = mean_squared_error(test.consumo_kwh, prediction, squared=False)\n",
    "b['MAE'] = mean_absolute_error(test.consumo_kwh, prediction)\n",
    "b['uc'] = uc_cliente[0]\n",
    "b = b.rename(columns={'index': 'referencia', 0: 'consumo_kwh'})\n",
    "b"
   ]
  },
  {
   "cell_type": "code",
   "execution_count": 37,
   "metadata": {},
   "outputs": [
    {
     "data": {
      "text/html": [
       "<div>\n",
       "<style scoped>\n",
       "    .dataframe tbody tr th:only-of-type {\n",
       "        vertical-align: middle;\n",
       "    }\n",
       "\n",
       "    .dataframe tbody tr th {\n",
       "        vertical-align: top;\n",
       "    }\n",
       "\n",
       "    .dataframe thead th {\n",
       "        text-align: right;\n",
       "    }\n",
       "</style>\n",
       "<table border=\"1\" class=\"dataframe\">\n",
       "  <thead>\n",
       "    <tr style=\"text-align: right;\">\n",
       "      <th></th>\n",
       "      <th>referencia</th>\n",
       "      <th>consumo_kwh</th>\n",
       "      <th>Tipo</th>\n",
       "      <th>Var_pct</th>\n",
       "      <th>MAPE</th>\n",
       "      <th>RMSE</th>\n",
       "      <th>MAE</th>\n",
       "      <th>uc</th>\n",
       "    </tr>\n",
       "  </thead>\n",
       "  <tbody>\n",
       "    <tr>\n",
       "      <th>13</th>\n",
       "      <td>2023-01-01</td>\n",
       "      <td>4771.0</td>\n",
       "      <td>Real</td>\n",
       "      <td>0.0</td>\n",
       "      <td>0.0</td>\n",
       "      <td>0.0</td>\n",
       "      <td>0.0</td>\n",
       "      <td>39822</td>\n",
       "    </tr>\n",
       "    <tr>\n",
       "      <th>14</th>\n",
       "      <td>2023-02-01</td>\n",
       "      <td>4910.0</td>\n",
       "      <td>Real</td>\n",
       "      <td>0.0</td>\n",
       "      <td>0.0</td>\n",
       "      <td>0.0</td>\n",
       "      <td>0.0</td>\n",
       "      <td>39822</td>\n",
       "    </tr>\n",
       "    <tr>\n",
       "      <th>15</th>\n",
       "      <td>2023-03-01</td>\n",
       "      <td>5672.0</td>\n",
       "      <td>Real</td>\n",
       "      <td>0.0</td>\n",
       "      <td>0.0</td>\n",
       "      <td>0.0</td>\n",
       "      <td>0.0</td>\n",
       "      <td>39822</td>\n",
       "    </tr>\n",
       "    <tr>\n",
       "      <th>16</th>\n",
       "      <td>2023-04-01</td>\n",
       "      <td>4986.0</td>\n",
       "      <td>Real</td>\n",
       "      <td>0.0</td>\n",
       "      <td>0.0</td>\n",
       "      <td>0.0</td>\n",
       "      <td>0.0</td>\n",
       "      <td>39822</td>\n",
       "    </tr>\n",
       "    <tr>\n",
       "      <th>17</th>\n",
       "      <td>2023-05-01</td>\n",
       "      <td>5358.0</td>\n",
       "      <td>Real</td>\n",
       "      <td>0.0</td>\n",
       "      <td>0.0</td>\n",
       "      <td>0.0</td>\n",
       "      <td>0.0</td>\n",
       "      <td>39822</td>\n",
       "    </tr>\n",
       "  </tbody>\n",
       "</table>\n",
       "</div>"
      ],
      "text/plain": [
       "   referencia  consumo_kwh  Tipo  Var_pct  MAPE  RMSE  MAE     uc\n",
       "13 2023-01-01       4771.0  Real      0.0   0.0   0.0  0.0  39822\n",
       "14 2023-02-01       4910.0  Real      0.0   0.0   0.0  0.0  39822\n",
       "15 2023-03-01       5672.0  Real      0.0   0.0   0.0  0.0  39822\n",
       "16 2023-04-01       4986.0  Real      0.0   0.0   0.0  0.0  39822\n",
       "17 2023-05-01       5358.0  Real      0.0   0.0   0.0  0.0  39822"
      ]
     },
     "execution_count": 37,
     "metadata": {},
     "output_type": "execute_result"
    }
   ],
   "source": [
    "data24.tail()"
   ]
  },
  {
   "cell_type": "code",
   "execution_count": 38,
   "metadata": {},
   "outputs": [
    {
     "data": {
      "text/plain": [
       "(   referencia  consumo_kwh      Tipo   Var_pct      MAPE        RMSE  \\\n",
       " 14 2023-02-01  4910.000000      Real  0.000000  0.000000    0.000000   \n",
       " 15 2023-03-01  5672.000000      Real  0.000000  0.000000    0.000000   \n",
       " 16 2023-04-01  4986.000000      Real  0.000000  0.000000    0.000000   \n",
       " 17 2023-05-01  5358.000000      Real  0.000000  0.000000    0.000000   \n",
       " 0  2023-05-01  5210.343806  Previsto -2.755808  0.027558  147.656194   \n",
       " \n",
       "            MAE     uc  \n",
       " 14    0.000000  39822  \n",
       " 15    0.000000  39822  \n",
       " 16    0.000000  39822  \n",
       " 17    0.000000  39822  \n",
       " 0   147.656194  39822  ,\n",
       " (19, 8))"
      ]
     },
     "execution_count": 38,
     "metadata": {},
     "output_type": "execute_result"
    }
   ],
   "source": [
    "data24 = pd.concat([data24, b])\n",
    "data24.tail(), data24.shape"
   ]
  }
 ],
 "metadata": {
  "kernelspec": {
   "display_name": "Projetos_ML_Origo",
   "language": "python",
   "name": "python3"
  },
  "language_info": {
   "codemirror_mode": {
    "name": "ipython",
    "version": 3
   },
   "file_extension": ".py",
   "mimetype": "text/x-python",
   "name": "python",
   "nbconvert_exporter": "python",
   "pygments_lexer": "ipython3",
   "version": "3.12.1"
  },
  "orig_nbformat": 4
 },
 "nbformat": 4,
 "nbformat_minor": 2
}
